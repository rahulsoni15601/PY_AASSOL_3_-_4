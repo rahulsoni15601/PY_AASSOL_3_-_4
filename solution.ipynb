{
 "cells": [
  {
   "cell_type": "markdown",
   "metadata": {},
   "source": [
    "<h1>Session 2</h1>"
   ]
  },
  {
   "cell_type": "markdown",
   "metadata": {},
   "source": [
    "<h1>Tasks1.</h1><div>Write a Python Program to implement your own myreduce() function which works exactly like\n",
    "Python's built-in function reduce()</div>"
   ]
  },
  {
   "cell_type": "code",
   "execution_count": 11,
   "metadata": {},
   "outputs": [
    {
     "name": "stdout",
     "output_type": "stream",
     "text": [
      "output sequence 47, input sequence 47\n",
      "output sequence 58, input sequence 11\n",
      "output sequence 100, input sequence 42\n",
      "output sequence 113, input sequence 13\n"
     ]
    }
   ],
   "source": [
    "def myreduce(lt):\n",
    "    cnt = 0\n",
    "    bt = lt[0]\n",
    "    for num in lt:\n",
    "        print('output sequence '+str(bt)+', input sequence '+str(lt[cnt]))\n",
    "        if cnt < len(lt)-1:\n",
    "            bt = bt+lt[cnt+1]\n",
    "            cnt+=1\n",
    "lt = [47, 11, 42, 13]\n",
    "myreduce(lt)"
   ]
  },
  {
   "cell_type": "markdown",
   "metadata": {},
   "source": [
    "<h1>Task 1.2</h1><div>Write a Python program to implement your own myfilter() function which works exactly like\n",
    "Python's built-in function filter()</div>"
   ]
  },
  {
   "cell_type": "code",
   "execution_count": 13,
   "metadata": {},
   "outputs": [
    {
     "name": "stdout",
     "output_type": "stream",
     "text": [
      "Happy Independence Day!\n"
     ]
    }
   ],
   "source": [
    "def method_two():\n",
    "    return \"Happy Independence Day!\"\n",
    "#method_two acting as callback method!\n",
    "def method_one(method_two):\n",
    "    result = method_two()\n",
    "    return result\n",
    "print(method_one(method_two)) #method_one acting as standard filter method of Python!"
   ]
  },
  {
   "cell_type": "markdown",
   "metadata": {},
   "source": [
    "<h1>Task 2.</h1>\n",
    "<div>Implement List comprehensions to produce the following lists.\n",
    "Write List comprehensions to produce the following Lists...</div>\n",
    "<div>['A', 'C', 'A', 'D', 'G', 'I', ’L’, ‘ D’]\n",
    "\n",
    "['x', 'xx', 'xxx', 'xxxx', 'y', 'yy', 'yyy', 'yyyy', 'z', 'zz', 'zzz', 'zzzz']\n",
    "\n",
    "['x', 'y', 'z', 'xx', 'yy', 'zz', 'xx', 'yy', 'zz', 'xxxx', 'yyyy', 'zzzz']\n",
    "\n",
    "[[2], [3], [4], [3], [4], [5], [4], [5], [6]]\n",
    "\n",
    "[[2, 3, 4, 5], [3, 4, 5, 6], [4, 5, 6, 7], [5, 6, 7, 8]]\n",
    "\n",
    "\n",
    "[(1, 1), (2, 1), (3, 1), (1, 2), (2, 2), (3, 2), (1, 3), (2, 3), (3, 3)]</div>"
   ]
  },
  {
   "cell_type": "code",
   "execution_count": 1,
   "metadata": {},
   "outputs": [
    {
     "name": "stdout",
     "output_type": "stream",
     "text": [
      "['A', 'C', 'A', 'D', 'G', 'I', 'L', 'D']\n",
      "['x', 'xx', 'xxx', 'xxxx', 'y', 'yy', 'yyy', 'yyyy', 'z', 'zz', 'zzz', 'zzzz']\n",
      "['x', 'y', 'z', 'xx', 'yy', 'zz', 'xx', 'yy', 'zz', 'xxxx', 'yyyy', 'zzzz']\n",
      "[[2], [3], [4], [3], [4], [5], [4], [5], [6]]\n",
      "[[2, 3, 4, 5], [3, 4, 5, 6], [4, 5, 6, 7], [5, 6, 7, 8]]\n",
      "[(1, 1), (2, 1), (3, 1), (1, 2), (2, 2), (3, 2), (1, 3), (2, 3), (3, 3)]\n"
     ]
    }
   ],
   "source": [
    "#['A', 'C', 'A', 'D', 'G', 'I', 'L', 'D']\n",
    "lt_new = ['A','C', 'D', 'G', 'I', 'L']\n",
    "[lt_new.insert(2,'A') if ctn == 'C' else lt_new.insert(7,'D') if ctn == 'L' else ctn for ctn in lt_new]\n",
    "print(lt_new)\n",
    "ipt_tw = ['x','y','z']\n",
    "#['x', 'xx', 'xxx', 'xxxx', 'y', 'yy', 'yyy', 'yyyy', 'z', 'zz', 'zzz', 'zzzz']\n",
    "lst_two_one = [sr*ctn for sr in ipt_tw for ctn in range(1,5)]\n",
    "print(lst_two_one)\n",
    "#['x', 'y', 'z', 'xx', 'yy', 'zz', 'xx', 'yy', 'zz', 'xxxx', 'yyyy', 'zzzz']\n",
    "lst_two_two = [wrd*(sr+1) if sr==1 else wrd*(sr+1) if sr==3 else wrd*(sr+1) if sr==0 else wrd*sr for sr in range(4) for wrd in ipt_tw]\n",
    "print(lst_two_two)\n",
    "#[[2], [3], [4], [3], [4], [5], [4], [5], [6]]\n",
    "lt_new = [2, 3, 4]\n",
    "pl = [[pt] for cnt in lt_new for pt in range(cnt, cnt+3)]\n",
    "print(pl)\n",
    "#[[2, 3, 4, 5], [3, 4, 5, 6], [4, 5, 6, 7], [5, 6, 7, 8]]\n",
    "lt_new = [2, 3, 4, 5]\n",
    "print([[pt for pt in range(pt, pt+4)] for pt in lt_new])\n",
    "#[(1, 1), (2, 1), (3, 1), (1, 2), (2, 2), (3, 2), (1, 3), (2, 3), (3, 3)]\n",
    "print([(pl,cn) for cn in range(1,4) for pl in range(1,4)])"
   ]
  },
  {
   "cell_type": "markdown",
   "metadata": {},
   "source": [
    "## Implement a function longestWord() that takes a list of words and returns the longest one."
   ]
  },
  {
   "cell_type": "code",
   "execution_count": 201,
   "metadata": {},
   "outputs": [
    {
     "name": "stdout",
     "output_type": "stream",
     "text": [
      "Rahul\n"
     ]
    }
   ],
   "source": [
    "def longestWord(wrd):\n",
    "    wdis = {}\n",
    "    wcon = [] \n",
    "    for cnt in wrd:\n",
    "        wcon.append(len(cnt))\n",
    "        wdis.update({len(cnt):cnt})\n",
    "    return wdis[max(wcon)]\n",
    "wrd = ['Rahul', 'Soni']\n",
    "print(longestWord(wrd))"
   ]
  },
  {
   "cell_type": "markdown",
   "metadata": {},
   "source": [
    "## Write a Python Program(with class concepts) to find the area of the triangle using the below formula.\n",
    "### area = (s*(s-a)*(s-b)*(s-c)) ** 0.5\n",
    "### Function to take the length of the sides of triangle from user should be defined in the parent\n",
    "### class and function to calculate the area should be defined in subclass."
   ]
  },
  {
   "cell_type": "code",
   "execution_count": 208,
   "metadata": {},
   "outputs": [
    {
     "name": "stdout",
     "output_type": "stream",
     "text": [
      "Traingle area 49.01052752846236\n"
     ]
    }
   ],
   "source": [
    "#area = (s*(s-a)*(s-b)*(s-c)) ** 0.5\n",
    "class traingle_sds:\n",
    "    def __init__(self, no_sides, one, two, three):\n",
    "        self.sides = no_sides\n",
    "        self.side_one = one\n",
    "        self.side_two = two\n",
    "        self.side_three = three\n",
    "        #print('side three'+str(self.side_three))\n",
    "class triangle_area(traingle_sds):\n",
    "    def area(self):\n",
    "        self.area = (self.sides*(self.sides-self.side_one)*(self.sides-self.side_two)*(self.sides-self.side_three))**5\n",
    "        return self.area\n",
    "obJ_ts = triangle_area(1.5,0.4,0.3,0.4)\n",
    "print(\"Traingle area \"+str(obJ_ts.area()))"
   ]
  },
  {
   "cell_type": "markdown",
   "metadata": {},
   "source": [
    "## Write a function filter_long_words() that takes a list of words and an integer n and returns the list of words that are longer than n."
   ]
  },
  {
   "cell_type": "code",
   "execution_count": 217,
   "metadata": {},
   "outputs": [
    {
     "name": "stdout",
     "output_type": "stream",
     "text": [
      "Rahulr\n"
     ]
    }
   ],
   "source": [
    "def filter_long_words(wrd, num):\n",
    "    wdis = {}\n",
    "    wcon = [] \n",
    "    for cnt in wrd:\n",
    "        wcon.append(len(cnt))\n",
    "        wdis.update({len(cnt):cnt})\n",
    "    if max(wcon) > num:\n",
    "        return wdis[max(wcon)]\n",
    "wrd = ['Rahulr', 'Sonir']\n",
    "num = 5\n",
    "print(filter_long_words(wrd, num))"
   ]
  },
  {
   "cell_type": "markdown",
   "metadata": {},
   "source": [
    "## Write a Python program using function concept that maps list of words into a list of integers representing the lengths of the corresponding words .\n",
    "### Hint: If a list [ ab,cde,erty] is passed on to the python function output should come as [2,3,4]\n",
    "### Here 2,3 and 4 are the lengths of the words in the list."
   ]
  },
  {
   "cell_type": "code",
   "execution_count": 248,
   "metadata": {},
   "outputs": [
    {
     "data": {
      "text/plain": [
       "[2, 3, 4]"
      ]
     },
     "execution_count": 248,
     "metadata": {},
     "output_type": "execute_result"
    }
   ],
   "source": [
    "def list_map(lt):\n",
    "    return len(lt)\n",
    "lt = ['ab','cde','erty']\n",
    "list(map(list_map, lt))"
   ]
  },
  {
   "cell_type": "markdown",
   "metadata": {},
   "source": [
    "### Write a Python function which takes a character (i.e. a string of length 1) and returns True if it is a vowel, False otherwise."
   ]
  },
  {
   "cell_type": "code",
   "execution_count": 272,
   "metadata": {},
   "outputs": [
    {
     "name": "stdout",
     "output_type": "stream",
     "text": [
      "Enter character a\n",
      "True\n"
     ]
    }
   ],
   "source": [
    "vwl = input('Enter character ')\n",
    "num = list(map(lambda vw: True if (vw=='a' or vw=='e' or vw=='i' or vw=='o' or vw=='u') else False, vwl))\n",
    "print(num[0])"
   ]
  },
  {
   "cell_type": "code",
   "execution_count": null,
   "metadata": {},
   "outputs": [],
   "source": []
  }
 ],
 "metadata": {
  "kernelspec": {
   "display_name": "Python 3",
   "language": "python",
   "name": "python3"
  },
  "language_info": {
   "codemirror_mode": {
    "name": "ipython",
    "version": 3
   },
   "file_extension": ".py",
   "mimetype": "text/x-python",
   "name": "python",
   "nbconvert_exporter": "python",
   "pygments_lexer": "ipython3",
   "version": "3.7.0"
  }
 },
 "nbformat": 4,
 "nbformat_minor": 2
}
